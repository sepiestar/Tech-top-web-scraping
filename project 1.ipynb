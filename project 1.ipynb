{
 "cells": [
  {
   "cell_type": "code",
   "execution_count": 10,
   "id": "5d075b8a",
   "metadata": {},
   "outputs": [],
   "source": [
    "import requests \n",
    "#import warnings \n",
    "import os\n",
    "from concurrent.futures import ThreadPoolExecutor\n",
    "from bs4 import BeautifulSoup \n",
    "from tqdm import tqdm\n",
    "\n",
    "#warnings.filterwarnings(\"ignore\")"
   ]
  },
  {
   "cell_type": "code",
   "execution_count": 11,
   "id": "29975fe8",
   "metadata": {},
   "outputs": [],
   "source": [
    "#gets the urls of the sub-categories\n",
    "def get_links():\n",
    "    url = \"https://techtop.co.il\"\n",
    "    response = requests.get(url, verify=False)\n",
    "    soup = BeautifulSoup(response.text, 'lxml')\n",
    "    links=[]\n",
    "    product_categories = soup.select(\"div.category-list-item\")\n",
    "    for product_category in product_categories: \n",
    "        category_name = product_category.find(\"p\",{\"class\":\"footer-title\"}).text.strip()\n",
    "        ul = product_category.find(\"ul\",{\"class\":\"category-list-hidden\"})\n",
    "        for li in ul.find_all(\"li\"):\n",
    "            try:\n",
    "                a_tag = li.find(\"a\")\n",
    "                sub_category_link = a_tag[\"href\"]\n",
    "                links.append(sub_category_link)\n",
    "            except:\n",
    "                   pass \n",
    "    return links\n",
    "\n",
    "\n",
    "\n",
    "\n",
    "\n"
   ]
  },
  {
   "cell_type": "code",
   "execution_count": 12,
   "id": "a6a9c955",
   "metadata": {
    "scrolled": false
   },
   "outputs": [],
   "source": [
    "#gets the data-information of all the product pages without a sub-category\n",
    "def get_catIds(urls):\n",
    "    test_links = urls\n",
    "    cat_ids=[]\n",
    "    list_cat=[]\n",
    "    for link in test_links:\n",
    "        url = link\n",
    "        response=requests.get(url,verify=False)\n",
    "        doc1=BeautifulSoup(response.text,'html.parser')\n",
    "        o_tag=doc1.find('h1',class_='woocommerce-products-header__title page-title').text.strip()\n",
    "        main_cat=doc1.find('section',class_='breadcrumbs-catalog').find_all('li')\n",
    "        for tag in main_cat:\n",
    "            li=tag.text.strip()\n",
    "            list_cat.append(li)\n",
    "        element=doc1.find('h1',class_='woocommerce-products-header__title page-title')\n",
    "        if element:\n",
    "            data_id=element.get('data-term_id')\n",
    "            cat_ids.append((data_id,o_tag,list_cat[-1]))\n",
    "        else:\n",
    "            pass\n",
    "    return cat_ids\n",
    "\n",
    "    \n",
    "\n"
   ]
  },
  {
   "cell_type": "code",
   "execution_count": 13,
   "id": "a54bc1cf",
   "metadata": {
    "scrolled": false
   },
   "outputs": [],
   "source": [
    "#gets the product info of all the products for each category pages\n",
    "import requests\n",
    "from bs4 import BeautifulSoup\n",
    "import pandas as pd\n",
    "def get_product_info():\n",
    "    #data_ids=[#('1336', 'Installation Amplifiers', 'AV Installations'),\n",
    " #('1337', 'Wall, wall and ceiling subwoofers', 'AV installations'),\n",
    " #('1340', 'Processors and Matrix', 'AV Installations'),\n",
    " #('1338', 'Flexible Neck and Bases', 'AV Installations'),\n",
    " #('1339', 'Home Speakers', 'AV Installations'),\n",
    " #('1353', 'Complementary equipment stands and cables', 'DJ studio and musical instruments'),\n",
    " #('939', 'studio headphones', 'studio DJ and musical instruments'),\n",
    " #('1276', 'Effects & DI', 'Studio DJ & Instruments'),\n",
    " #('1052', 'Musical Instruments', 'DJ Studio and Musical Instruments'),\n",
    " #('941', 'Sound Cards', 'DJ Studio and Musical Instruments'),\n",
    " #('942', 'studio monitors', 'studio DJ and musical instruments'),\n",
    "# ('1112', 'Microphones for the studio', 'DJ studio and musical instruments'),\n",
    "# ('1083', 'Keyboards and controllers', 'DJ studio and musical instruments'),\n",
    " #('943', 'Acoustic solutions', 'DJ studio and musical instruments'),\n",
    " #('1045', 'Speakers and amplifiers for musical instruments', 'DJ studio and musical instruments'),\n",
    " #('1306', 'measuring instruments', 'sound amplification'),\n",
    " #('765', 'headset', 'volume up'),\n",
    "#('743', 'Amplifiers', 'Voice Amplification'),\n",
    " #('752', 'Mixers', 'Voice Boost'),\n",
    " #('770', 'Microphones', 'Voice Boost'),\n",
    " #('760', 'Wireless Microphones', 'Voice Boost'),\n",
    " #('1080', 'Translation and Training Accessibility Systems', 'Voice Amplification'),\n",
    " #('793', 'players / recorders', 'amplifying sound'),\n",
    " #('999', 'Processors, Processors and Control', 'Voice Amplification'),\n",
    "#('745', 'Speakers', 'Volume Up'),\n",
    "# ('1035', 'Cable rolls for audio and lighting', 'Cables and connectors'),\n",
    "# ('786', 'A/V Cables', 'Cables and Connectors'),\n",
    " #('787', 'network cables', 'cables and connectors'),\n",
    "# ('1120', 'cables with connectors', 'cables and connectors'),\n",
    "# ('1288', 'connectors', 'cables and connectors'),\n",
    " #('1298', 'A/V Adapters and Switches', 'Cables and Connectors'),\n",
    " #('680', 'cable testers', 'cables and connectors'),\n",
    " #('1069', 'Azerim', 'Cables and Connectors'),\n",
    " #('1330', 'Projection screens', 'Multimedia/AV'),\n",
    " #('1334', 'Interactive screens', 'Multimedia/AV'),\n",
    " #('1309', 'Multimedia stands/accessories', 'Multimedia/AV'),\n",
    " #('1061', \"Gadgets and Computers\", 'Multimedia/AV'),\n",
    " #('949', 'Matrix', 'Multimedia/AV'),\n",
    "# ('950', 'Converters', 'Multimedia/AV'),\n",
    " #('955', 'Switches and Splitters', 'Multimedia/AV'),\n",
    " #('962', 'Cameras', 'Multimedia/AV'),\n",
    "# ('963', 'Projectors', 'Multimedia/AV'),\n",
    "# ('956', 'Remote', 'Multimedia/AV'),\n",
    "# ('957', 'AV panels and boxes', 'Multimedia/AV'),\n",
    " #('960', 'Presentation', 'Multimedia/AV'),\n",
    " #('1299', 'AV Control', 'Multimedia/AV'),\n",
    "# ('1031', 'Zivod RACK wardrobe accessories', 'Stands and accessories'),\n",
    "# ('1030', 'Flight Case', 'Stands and Accessories'),\n",
    "# ('1300', 'stands and accessories for amplification', 'stands and accessories'),\n",
    "# ('799', 'Stands and accessories for multimedia', 'Stands and accessories'),\n",
    "# ('1025', 'Lighting stands and accessories', 'Stands and accessories'),\n",
    "# ('1269', 'Stands for the stage and musical instruments', 'Stands and accessories'),\n",
    " #('1068', 'Power supplies and batteries', 'Stands and accessories'),\n",
    "# ('1202', 'Cables and connectors for lighting', 'Lighting'),\n",
    "# ('1220', 'Smoke machine and other effects', 'Lighting'),\n",
    " #('1212', 'stands/accessories for hanging lanterns', 'lighting'),\n",
    " #('1227', 'Lights and Stage Accessories', 'Lighting'),\n",
    " #('1193', 'Lighting commands and controls', 'Lighting'),\n",
    " #('1251', 'Effect lights and mirror balls', 'Lighting'),\n",
    " #('1226', 'photo lights', 'lighting'),\n",
    "# ('1021', 'architectural lighting fixtures', 'lighting'),\n",
    " #('780', 'motorized lights', 'lighting'),\n",
    " #('1242', 'Static lights for stage and theater', 'Lighting')]\n",
    "    products=[]\n",
    "    skus=[]\n",
    "    prices=[]\n",
    "    product_links=[]\n",
    "    sub_cats=[]\n",
    "    main_cats=[]\n",
    "    for i in range(len(data_ids)):\n",
    "        url = \"https://techtop.co.il/wp-admin/admin-ajax.php\"\n",
    "        payload = {\n",
    "            \"cat\":f'{data_ids[i][0]}',\n",
    "            \"pageNumber\":\"1\",\n",
    "            \"ppp\":\"1\",\n",
    "            \"action\":\"all_post_ajax\"\n",
    "        }\n",
    "        response = requests.post(url, data=payload, verify=False)\n",
    "        doc=BeautifulSoup(response.text,'html.parser')\n",
    "        title=doc.find_all('div',class_='item-info')\n",
    "        main_category=data_ids[i][2]\n",
    "        sub_category=data_ids[i][1]\n",
    "        for tag in title:\n",
    "            prod=tag.find('p',class_=\"title woocommerce-loop-product__title\").text.strip()\n",
    "            prod_url=tag.find('a')['href']\n",
    "            product_links.append(prod_url)\n",
    "            sku=tag.find('p',class_='sku').text.strip()\n",
    "            products.append(prod)\n",
    "            skus.append(sku)\n",
    "            try:\n",
    "                price=tag.find('div',class_='item-price').text.strip()\n",
    "                prices.append(price)\n",
    "            except:\n",
    "                price='None'\n",
    "                prices.append(price)\n",
    "            sub_cats.append(sub_category)\n",
    "            main_cats.append(main_category)\n",
    "        dict={\n",
    "            'Main_Category':main_category,\n",
    "            'Sub_Category':sub_category,\n",
    "            'Product_name':products,\n",
    "            'sku':skus,\n",
    "            'prices':prices,\n",
    "            'product_links':product_links\n",
    "\n",
    "\n",
    "        } \n",
    "        filename=f'Desktop/{main_category}.csv'\n",
    "        if os.path.exists(filename):\n",
    "            print(f'This {main_category},{sub_category} file already exists.Skipping........')\n",
    "        else:\n",
    "            os.makedirs(filename)\n",
    "            print(f'Scraping product data for {main_category},{sub_category}')\n",
    "            with open(filename,'w')as f:\n",
    "                writer=csv.writer(f)\n",
    "                writer.writerow(main_catgeory)\n",
    "                writer.writerow(sub_catgeory)\n",
    "                writer.writerow(products)\n",
    "                writer.writerow(skus)\n",
    "                writer.writerow(prices)\n",
    "                writer.writerow(product_links)\n",
    "            print('Done-------------------')\n",
    "\n",
    " \n",
    "\n",
    "\n",
    "\n",
    "     \n",
    "        \n",
    "        \n"
   ]
  },
  {
   "cell_type": "code",
   "execution_count": 14,
   "id": "701d1005",
   "metadata": {},
   "outputs": [],
   "source": [
    "#gets the id of the products within a mini-category\n",
    "def get_Id_miniCat(min_urls):\n",
    "    test_links = min_urls[:10]\n",
    "    cat_ids=[]\n",
    "    list_cat=[]\n",
    "    for link in test_links:\n",
    "        url = link\n",
    "        response=requests.get(url,verify=False)\n",
    "        doc1=BeautifulSoup(response.text,'html.parser')\n",
    "        o_tag=doc1.find('h1',class_='woocommerce-products-header__title page-title').text.strip()\n",
    "        main_cat=doc1.find('section',class_='breadcrumbs-catalog').find_all('li')\n",
    "        for tag in main_cat:\n",
    "            li=tag.text.strip()\n",
    "            list_cat.append(li)\n",
    "        element=doc1.find('h1',class_='woocommerce-products-header__title page-title')\n",
    "        if element:\n",
    "            data_id=element.get('data-term_id')\n",
    "            cat_ids.append((data_id,o_tag,list_cat[-1],list_cat[2]))\n",
    "            print(cat_ids)\n",
    "        else:\n",
    "            pass\n",
    "\n",
    "    return cat_ids\n",
    "        \n",
    "        \n",
    "    \n",
    "    "
   ]
  },
  {
   "cell_type": "code",
   "execution_count": 15,
   "id": "2a8dbdc0",
   "metadata": {
    "scrolled": false
   },
   "outputs": [],
   "source": [
    "def get_mini_category(urls):#gets the links of the pages with the mini-categories\n",
    "    mini_links=[]\n",
    "    test_links=urls[:10]\n",
    "    for miin_link in test_links:\n",
    "        response=requests.get(miin_link,verify=False)\n",
    "        mini_doc=BeautifulSoup(response.text,'html.parser')\n",
    "        mini_category=mini_doc.find_all('h3',class_='woocommerce-loop-category__title')\n",
    "        if mini_category:\n",
    "            div_tag=mini_doc.find('div',class_='catalog-category catalog-products-list')\n",
    "            divi_tag=div_tag.find_all('div',class_='category-header')\n",
    "            for tag in divi_tag:\n",
    "                a_tag=tag.find('a')['href']\n",
    "                mini_links.append(a_tag)\n",
    "\n",
    "        else:\n",
    "            pass\n",
    "    return mini_links\n",
    "\n"
   ]
  },
  {
   "cell_type": "code",
   "execution_count": null,
   "id": "1f897278",
   "metadata": {},
   "outputs": [],
   "source": []
  },
  {
   "cell_type": "code",
   "execution_count": 16,
   "id": "8f847a49",
   "metadata": {},
   "outputs": [],
   "source": [
    "#This code will scrape the products for a category with a mini-Category\n",
    "import requests\n",
    "from bs4 import BeautifulSoup\n",
    "import pandas as pd\n",
    "def get_mini_info(datas_ids):\n",
    "    products=[]\n",
    "    skus=[]\n",
    "    prices=[]\n",
    "    product_links=[]\n",
    "    sub_cats=[]\n",
    "    main_cats=[]\n",
    "    for i in range(len(datas_ids)):\n",
    "        url = \"https://techtop.co.il/wp-admin/admin-ajax.php\"\n",
    "        payload = {\n",
    "            \"cat\":f'{datas_ids[i][0]}',\n",
    "            \"pageNumber\":\"1\",\n",
    "            \"ppp\":\"1\",\n",
    "            \"action\":\"all_post_ajax\"\n",
    "        }\n",
    "        response = requests.post(url, data=payload, verify=False)\n",
    "        doc=BeautifulSoup(response.text,'html.parser')\n",
    "        title=doc.find_all('div',class_='item-info')\n",
    "        mini_category=doc.find_all('h3',class_='woocommerce-loop-category__title')\n",
    "        main_category=datas_ids[i][3]\n",
    "        sub_category=datas_ids[i][2]\n",
    "        mini_categories=datas_ids[i][1]\n",
    "        for tag in title:\n",
    "            prod=tag.find('p',class_=\"title woocommerce-loop-product__title\").text.strip()\n",
    "            prod_url=tag.find('a')['href']\n",
    "            product_links.append(prod_url)\n",
    "            sku=tag.find('p',class_='sku').text.strip()\n",
    "            products.append(prod)\n",
    "            skus.append(sku)\n",
    "            try:\n",
    "                price=tag.find('div',class_='item-price').text.strip()\n",
    "                prices.append(price)\n",
    "            except:\n",
    "                price='None'\n",
    "                prices.append(price)\n",
    "            sub_cats.append(sub_category)\n",
    "            main_cats.append(main_category)\n",
    "            mini_category.append(mini_category)\n",
    "        \n",
    "        \n",
    "        dict={\n",
    "            'Main_Category':main_category,\n",
    "            'Sub_Category':sub_category,\n",
    "            'Mini_Category':mini_categories,\n",
    "            'Product_name':products,\n",
    "            'sku':skus,\n",
    "            'prices':prices,\n",
    "            'product_links':product_links\n",
    "\n",
    "\n",
    "        } \n",
    "        print(f'Scraping product data for {main_category},{sub_category},{mini_category}')\n",
    "        filename=f'{main_category}.csv'\n",
    "        pd.DataFrame(dict).to_csv(filename,index=None)\n",
    "        print('Done------------------------------------')\n",
    "\n",
    "   \n",
    "\n",
    "\n",
    "     \n",
    "        \n",
    "        \n"
   ]
  },
  {
   "cell_type": "code",
   "execution_count": 17,
   "id": "d7175dc3",
   "metadata": {},
   "outputs": [],
   "source": [
    "def scrape_prod():\n",
    "    df=get_mini_info(get_Id_miniCat(get_mini_category(get_links())))\n",
    "    return df\n",
    "    "
   ]
  },
  {
   "cell_type": "code",
   "execution_count": 20,
   "id": "e3a3ae8b",
   "metadata": {},
   "outputs": [
    {
     "name": "stderr",
     "output_type": "stream",
     "text": [
      "C:\\Users\\PETER\\anaconda3\\lib\\site-packages\\urllib3\\connectionpool.py:1045: InsecureRequestWarning: Unverified HTTPS request is being made to host 'techtop.co.il'. Adding certificate verification is strongly advised. See: https://urllib3.readthedocs.io/en/1.26.x/advanced-usage.html#ssl-warnings\n",
      "  warnings.warn(\n",
      "C:\\Users\\PETER\\anaconda3\\lib\\site-packages\\urllib3\\connectionpool.py:1045: InsecureRequestWarning: Unverified HTTPS request is being made to host 'techtop.co.il'. Adding certificate verification is strongly advised. See: https://urllib3.readthedocs.io/en/1.26.x/advanced-usage.html#ssl-warnings\n",
      "  warnings.warn(\n",
      "C:\\Users\\PETER\\anaconda3\\lib\\site-packages\\urllib3\\connectionpool.py:1045: InsecureRequestWarning: Unverified HTTPS request is being made to host 'techtop.co.il'. Adding certificate verification is strongly advised. See: https://urllib3.readthedocs.io/en/1.26.x/advanced-usage.html#ssl-warnings\n",
      "  warnings.warn(\n",
      "C:\\Users\\PETER\\anaconda3\\lib\\site-packages\\urllib3\\connectionpool.py:1045: InsecureRequestWarning: Unverified HTTPS request is being made to host 'techtop.co.il'. Adding certificate verification is strongly advised. See: https://urllib3.readthedocs.io/en/1.26.x/advanced-usage.html#ssl-warnings\n",
      "  warnings.warn(\n",
      "C:\\Users\\PETER\\anaconda3\\lib\\site-packages\\urllib3\\connectionpool.py:1045: InsecureRequestWarning: Unverified HTTPS request is being made to host 'techtop.co.il'. Adding certificate verification is strongly advised. See: https://urllib3.readthedocs.io/en/1.26.x/advanced-usage.html#ssl-warnings\n",
      "  warnings.warn(\n",
      "C:\\Users\\PETER\\anaconda3\\lib\\site-packages\\urllib3\\connectionpool.py:1045: InsecureRequestWarning: Unverified HTTPS request is being made to host 'techtop.co.il'. Adding certificate verification is strongly advised. See: https://urllib3.readthedocs.io/en/1.26.x/advanced-usage.html#ssl-warnings\n",
      "  warnings.warn(\n",
      "C:\\Users\\PETER\\anaconda3\\lib\\site-packages\\urllib3\\connectionpool.py:1045: InsecureRequestWarning: Unverified HTTPS request is being made to host 'techtop.co.il'. Adding certificate verification is strongly advised. See: https://urllib3.readthedocs.io/en/1.26.x/advanced-usage.html#ssl-warnings\n",
      "  warnings.warn(\n",
      "C:\\Users\\PETER\\anaconda3\\lib\\site-packages\\urllib3\\connectionpool.py:1045: InsecureRequestWarning: Unverified HTTPS request is being made to host 'techtop.co.il'. Adding certificate verification is strongly advised. See: https://urllib3.readthedocs.io/en/1.26.x/advanced-usage.html#ssl-warnings\n",
      "  warnings.warn(\n",
      "C:\\Users\\PETER\\anaconda3\\lib\\site-packages\\urllib3\\connectionpool.py:1045: InsecureRequestWarning: Unverified HTTPS request is being made to host 'techtop.co.il'. Adding certificate verification is strongly advised. See: https://urllib3.readthedocs.io/en/1.26.x/advanced-usage.html#ssl-warnings\n",
      "  warnings.warn(\n",
      "C:\\Users\\PETER\\anaconda3\\lib\\site-packages\\urllib3\\connectionpool.py:1045: InsecureRequestWarning: Unverified HTTPS request is being made to host 'techtop.co.il'. Adding certificate verification is strongly advised. See: https://urllib3.readthedocs.io/en/1.26.x/advanced-usage.html#ssl-warnings\n",
      "  warnings.warn(\n",
      "C:\\Users\\PETER\\anaconda3\\lib\\site-packages\\urllib3\\connectionpool.py:1045: InsecureRequestWarning: Unverified HTTPS request is being made to host 'techtop.co.il'. Adding certificate verification is strongly advised. See: https://urllib3.readthedocs.io/en/1.26.x/advanced-usage.html#ssl-warnings\n",
      "  warnings.warn(\n",
      "C:\\Users\\PETER\\anaconda3\\lib\\site-packages\\urllib3\\connectionpool.py:1045: InsecureRequestWarning: Unverified HTTPS request is being made to host 'techtop.co.il'. Adding certificate verification is strongly advised. See: https://urllib3.readthedocs.io/en/1.26.x/advanced-usage.html#ssl-warnings\n",
      "  warnings.warn(\n"
     ]
    },
    {
     "name": "stdout",
     "output_type": "stream",
     "text": [
      "[('1358', 'אביזרי כלי נגינה ואולפן', 'ציוד משלים מעמדים וכבלים', 'אולפן DJ וכלי נגינה')]\n"
     ]
    },
    {
     "name": "stderr",
     "output_type": "stream",
     "text": [
      "C:\\Users\\PETER\\anaconda3\\lib\\site-packages\\urllib3\\connectionpool.py:1045: InsecureRequestWarning: Unverified HTTPS request is being made to host 'techtop.co.il'. Adding certificate verification is strongly advised. See: https://urllib3.readthedocs.io/en/1.26.x/advanced-usage.html#ssl-warnings\n",
      "  warnings.warn(\n"
     ]
    },
    {
     "name": "stdout",
     "output_type": "stream",
     "text": [
      "[('1358', 'אביזרי כלי נגינה ואולפן', 'ציוד משלים מעמדים וכבלים', 'אולפן DJ וכלי נגינה'), ('1355', 'כיסויים ותיקים', 'ציוד משלים מעמדים וכבלים', 'אולפן DJ וכלי נגינה')]\n"
     ]
    },
    {
     "name": "stderr",
     "output_type": "stream",
     "text": [
      "C:\\Users\\PETER\\anaconda3\\lib\\site-packages\\urllib3\\connectionpool.py:1045: InsecureRequestWarning: Unverified HTTPS request is being made to host 'techtop.co.il'. Adding certificate verification is strongly advised. See: https://urllib3.readthedocs.io/en/1.26.x/advanced-usage.html#ssl-warnings\n",
      "  warnings.warn(\n"
     ]
    },
    {
     "name": "stdout",
     "output_type": "stream",
     "text": [
      "[('1358', 'אביזרי כלי נגינה ואולפן', 'ציוד משלים מעמדים וכבלים', 'אולפן DJ וכלי נגינה'), ('1355', 'כיסויים ותיקים', 'ציוד משלים מעמדים וכבלים', 'אולפן DJ וכלי נגינה'), ('1354', 'פדל בורד', 'ציוד משלים מעמדים וכבלים', 'אולפן DJ וכלי נגינה')]\n"
     ]
    },
    {
     "name": "stderr",
     "output_type": "stream",
     "text": [
      "C:\\Users\\PETER\\anaconda3\\lib\\site-packages\\urllib3\\connectionpool.py:1045: InsecureRequestWarning: Unverified HTTPS request is being made to host 'techtop.co.il'. Adding certificate verification is strongly advised. See: https://urllib3.readthedocs.io/en/1.26.x/advanced-usage.html#ssl-warnings\n",
      "  warnings.warn(\n"
     ]
    },
    {
     "name": "stdout",
     "output_type": "stream",
     "text": [
      "[('1358', 'אביזרי כלי נגינה ואולפן', 'ציוד משלים מעמדים וכבלים', 'אולפן DJ וכלי נגינה'), ('1355', 'כיסויים ותיקים', 'ציוד משלים מעמדים וכבלים', 'אולפן DJ וכלי נגינה'), ('1354', 'פדל בורד', 'ציוד משלים מעמדים וכבלים', 'אולפן DJ וכלי נגינה'), ('1277', 'אפקטים לגיטרה בס', 'אפקטים ו - DI', 'אולפן DJ וכלי נגינה')]\n"
     ]
    },
    {
     "name": "stderr",
     "output_type": "stream",
     "text": [
      "C:\\Users\\PETER\\anaconda3\\lib\\site-packages\\urllib3\\connectionpool.py:1045: InsecureRequestWarning: Unverified HTTPS request is being made to host 'techtop.co.il'. Adding certificate verification is strongly advised. See: https://urllib3.readthedocs.io/en/1.26.x/advanced-usage.html#ssl-warnings\n",
      "  warnings.warn(\n"
     ]
    },
    {
     "name": "stdout",
     "output_type": "stream",
     "text": [
      "[('1358', 'אביזרי כלי נגינה ואולפן', 'ציוד משלים מעמדים וכבלים', 'אולפן DJ וכלי נגינה'), ('1355', 'כיסויים ותיקים', 'ציוד משלים מעמדים וכבלים', 'אולפן DJ וכלי נגינה'), ('1354', 'פדל בורד', 'ציוד משלים מעמדים וכבלים', 'אולפן DJ וכלי נגינה'), ('1277', 'אפקטים לגיטרה בס', 'אפקטים ו - DI', 'אולפן DJ וכלי נגינה'), ('1278', 'אפקטים לגיטרה חשמלית', 'אפקטים ו - DI', 'אולפן DJ וכלי נגינה')]\n"
     ]
    },
    {
     "name": "stderr",
     "output_type": "stream",
     "text": [
      "C:\\Users\\PETER\\anaconda3\\lib\\site-packages\\urllib3\\connectionpool.py:1045: InsecureRequestWarning: Unverified HTTPS request is being made to host 'techtop.co.il'. Adding certificate verification is strongly advised. See: https://urllib3.readthedocs.io/en/1.26.x/advanced-usage.html#ssl-warnings\n",
      "  warnings.warn(\n"
     ]
    },
    {
     "name": "stdout",
     "output_type": "stream",
     "text": [
      "[('1358', 'אביזרי כלי נגינה ואולפן', 'ציוד משלים מעמדים וכבלים', 'אולפן DJ וכלי נגינה'), ('1355', 'כיסויים ותיקים', 'ציוד משלים מעמדים וכבלים', 'אולפן DJ וכלי נגינה'), ('1354', 'פדל בורד', 'ציוד משלים מעמדים וכבלים', 'אולפן DJ וכלי נגינה'), ('1277', 'אפקטים לגיטרה בס', 'אפקטים ו - DI', 'אולפן DJ וכלי נגינה'), ('1278', 'אפקטים לגיטרה חשמלית', 'אפקטים ו - DI', 'אולפן DJ וכלי נגינה'), ('1280', 'אפקטים לשירה', 'אפקטים ו - DI', 'אולפן DJ וכלי נגינה')]\n"
     ]
    },
    {
     "name": "stderr",
     "output_type": "stream",
     "text": [
      "C:\\Users\\PETER\\anaconda3\\lib\\site-packages\\urllib3\\connectionpool.py:1045: InsecureRequestWarning: Unverified HTTPS request is being made to host 'techtop.co.il'. Adding certificate verification is strongly advised. See: https://urllib3.readthedocs.io/en/1.26.x/advanced-usage.html#ssl-warnings\n",
      "  warnings.warn(\n"
     ]
    },
    {
     "name": "stdout",
     "output_type": "stream",
     "text": [
      "[('1358', 'אביזרי כלי נגינה ואולפן', 'ציוד משלים מעמדים וכבלים', 'אולפן DJ וכלי נגינה'), ('1355', 'כיסויים ותיקים', 'ציוד משלים מעמדים וכבלים', 'אולפן DJ וכלי נגינה'), ('1354', 'פדל בורד', 'ציוד משלים מעמדים וכבלים', 'אולפן DJ וכלי נגינה'), ('1277', 'אפקטים לגיטרה בס', 'אפקטים ו - DI', 'אולפן DJ וכלי נגינה'), ('1278', 'אפקטים לגיטרה חשמלית', 'אפקטים ו - DI', 'אולפן DJ וכלי נגינה'), ('1280', 'אפקטים לשירה', 'אפקטים ו - DI', 'אולפן DJ וכלי נגינה'), ('1279', 'קופסאות DI', 'אפקטים ו - DI', 'אולפן DJ וכלי נגינה')]\n"
     ]
    },
    {
     "name": "stderr",
     "output_type": "stream",
     "text": [
      "C:\\Users\\PETER\\anaconda3\\lib\\site-packages\\urllib3\\connectionpool.py:1045: InsecureRequestWarning: Unverified HTTPS request is being made to host 'techtop.co.il'. Adding certificate verification is strongly advised. See: https://urllib3.readthedocs.io/en/1.26.x/advanced-usage.html#ssl-warnings\n",
      "  warnings.warn(\n"
     ]
    },
    {
     "name": "stdout",
     "output_type": "stream",
     "text": [
      "[('1358', 'אביזרי כלי נגינה ואולפן', 'ציוד משלים מעמדים וכבלים', 'אולפן DJ וכלי נגינה'), ('1355', 'כיסויים ותיקים', 'ציוד משלים מעמדים וכבלים', 'אולפן DJ וכלי נגינה'), ('1354', 'פדל בורד', 'ציוד משלים מעמדים וכבלים', 'אולפן DJ וכלי נגינה'), ('1277', 'אפקטים לגיטרה בס', 'אפקטים ו - DI', 'אולפן DJ וכלי נגינה'), ('1278', 'אפקטים לגיטרה חשמלית', 'אפקטים ו - DI', 'אולפן DJ וכלי נגינה'), ('1280', 'אפקטים לשירה', 'אפקטים ו - DI', 'אולפן DJ וכלי נגינה'), ('1279', 'קופסאות DI', 'אפקטים ו - DI', 'אולפן DJ וכלי נגינה'), ('1158', 'סינטיסייזרים', 'כלי נגינה', 'אולפן DJ וכלי נגינה')]\n"
     ]
    },
    {
     "name": "stderr",
     "output_type": "stream",
     "text": [
      "C:\\Users\\PETER\\anaconda3\\lib\\site-packages\\urllib3\\connectionpool.py:1045: InsecureRequestWarning: Unverified HTTPS request is being made to host 'techtop.co.il'. Adding certificate verification is strongly advised. See: https://urllib3.readthedocs.io/en/1.26.x/advanced-usage.html#ssl-warnings\n",
      "  warnings.warn(\n"
     ]
    },
    {
     "name": "stdout",
     "output_type": "stream",
     "text": [
      "[('1358', 'אביזרי כלי נגינה ואולפן', 'ציוד משלים מעמדים וכבלים', 'אולפן DJ וכלי נגינה'), ('1355', 'כיסויים ותיקים', 'ציוד משלים מעמדים וכבלים', 'אולפן DJ וכלי נגינה'), ('1354', 'פדל בורד', 'ציוד משלים מעמדים וכבלים', 'אולפן DJ וכלי נגינה'), ('1277', 'אפקטים לגיטרה בס', 'אפקטים ו - DI', 'אולפן DJ וכלי נגינה'), ('1278', 'אפקטים לגיטרה חשמלית', 'אפקטים ו - DI', 'אולפן DJ וכלי נגינה'), ('1280', 'אפקטים לשירה', 'אפקטים ו - DI', 'אולפן DJ וכלי נגינה'), ('1279', 'קופסאות DI', 'אפקטים ו - DI', 'אולפן DJ וכלי נגינה'), ('1158', 'סינטיסייזרים', 'כלי נגינה', 'אולפן DJ וכלי נגינה'), ('1153', 'כרטיסי קול', 'כרטיסי קול', 'אולפן DJ וכלי נגינה')]\n"
     ]
    },
    {
     "name": "stderr",
     "output_type": "stream",
     "text": [
      "C:\\Users\\PETER\\anaconda3\\lib\\site-packages\\urllib3\\connectionpool.py:1045: InsecureRequestWarning: Unverified HTTPS request is being made to host 'techtop.co.il'. Adding certificate verification is strongly advised. See: https://urllib3.readthedocs.io/en/1.26.x/advanced-usage.html#ssl-warnings\n",
      "  warnings.warn(\n"
     ]
    },
    {
     "name": "stdout",
     "output_type": "stream",
     "text": [
      "[('1358', 'אביזרי כלי נגינה ואולפן', 'ציוד משלים מעמדים וכבלים', 'אולפן DJ וכלי נגינה'), ('1355', 'כיסויים ותיקים', 'ציוד משלים מעמדים וכבלים', 'אולפן DJ וכלי נגינה'), ('1354', 'פדל בורד', 'ציוד משלים מעמדים וכבלים', 'אולפן DJ וכלי נגינה'), ('1277', 'אפקטים לגיטרה בס', 'אפקטים ו - DI', 'אולפן DJ וכלי נגינה'), ('1278', 'אפקטים לגיטרה חשמלית', 'אפקטים ו - DI', 'אולפן DJ וכלי נגינה'), ('1280', 'אפקטים לשירה', 'אפקטים ו - DI', 'אולפן DJ וכלי נגינה'), ('1279', 'קופסאות DI', 'אפקטים ו - DI', 'אולפן DJ וכלי נגינה'), ('1158', 'סינטיסייזרים', 'כלי נגינה', 'אולפן DJ וכלי נגינה'), ('1153', 'כרטיסי קול', 'כרטיסי קול', 'אולפן DJ וכלי נגינה'), ('1165', 'כרטיסי קול לניוד', 'כרטיסי קול', 'אולפן DJ וכלי נגינה')]\n"
     ]
    },
    {
     "name": "stderr",
     "output_type": "stream",
     "text": [
      "C:\\Users\\PETER\\anaconda3\\lib\\site-packages\\urllib3\\connectionpool.py:1045: InsecureRequestWarning: Unverified HTTPS request is being made to host 'techtop.co.il'. Adding certificate verification is strongly advised. See: https://urllib3.readthedocs.io/en/1.26.x/advanced-usage.html#ssl-warnings\n",
      "  warnings.warn(\n"
     ]
    },
    {
     "name": "stdout",
     "output_type": "stream",
     "text": [
      "Scraping product data for אולפן DJ וכלי נגינה,ציוד משלים מעמדים וכבלים,[[...], [...], [...], [...], [...], [...], [...], [...], [...], [...], [...], [...], [...], [...], [...], [...], [...], [...], [...], [...], [...], [...], [...], [...], [...], [...], [...], [...], [...], [...], [...], [...], [...], [...], [...]]\n",
      "Done------------------------------------\n"
     ]
    },
    {
     "name": "stderr",
     "output_type": "stream",
     "text": [
      "C:\\Users\\PETER\\anaconda3\\lib\\site-packages\\urllib3\\connectionpool.py:1045: InsecureRequestWarning: Unverified HTTPS request is being made to host 'techtop.co.il'. Adding certificate verification is strongly advised. See: https://urllib3.readthedocs.io/en/1.26.x/advanced-usage.html#ssl-warnings\n",
      "  warnings.warn(\n"
     ]
    },
    {
     "name": "stdout",
     "output_type": "stream",
     "text": [
      "Scraping product data for אולפן DJ וכלי נגינה,ציוד משלים מעמדים וכבלים,[[...], [...], [...], [...], [...], [...], [...], [...], [...], [...], [...], [...], [...], [...], [...], [...]]\n",
      "Done------------------------------------\n"
     ]
    },
    {
     "name": "stderr",
     "output_type": "stream",
     "text": [
      "C:\\Users\\PETER\\anaconda3\\lib\\site-packages\\urllib3\\connectionpool.py:1045: InsecureRequestWarning: Unverified HTTPS request is being made to host 'techtop.co.il'. Adding certificate verification is strongly advised. See: https://urllib3.readthedocs.io/en/1.26.x/advanced-usage.html#ssl-warnings\n",
      "  warnings.warn(\n"
     ]
    },
    {
     "name": "stdout",
     "output_type": "stream",
     "text": [
      "Scraping product data for אולפן DJ וכלי נגינה,ציוד משלים מעמדים וכבלים,[[...], [...], [...], [...], [...], [...], [...], [...]]\n",
      "Done------------------------------------\n"
     ]
    },
    {
     "name": "stderr",
     "output_type": "stream",
     "text": [
      "C:\\Users\\PETER\\anaconda3\\lib\\site-packages\\urllib3\\connectionpool.py:1045: InsecureRequestWarning: Unverified HTTPS request is being made to host 'techtop.co.il'. Adding certificate verification is strongly advised. See: https://urllib3.readthedocs.io/en/1.26.x/advanced-usage.html#ssl-warnings\n",
      "  warnings.warn(\n"
     ]
    },
    {
     "name": "stdout",
     "output_type": "stream",
     "text": [
      "Scraping product data for אולפן DJ וכלי נגינה,אפקטים ו - DI,[[...], [...], [...]]\n",
      "Done------------------------------------\n"
     ]
    },
    {
     "name": "stderr",
     "output_type": "stream",
     "text": [
      "C:\\Users\\PETER\\anaconda3\\lib\\site-packages\\urllib3\\connectionpool.py:1045: InsecureRequestWarning: Unverified HTTPS request is being made to host 'techtop.co.il'. Adding certificate verification is strongly advised. See: https://urllib3.readthedocs.io/en/1.26.x/advanced-usage.html#ssl-warnings\n",
      "  warnings.warn(\n"
     ]
    },
    {
     "name": "stdout",
     "output_type": "stream",
     "text": [
      "Scraping product data for אולפן DJ וכלי נגינה,אפקטים ו - DI,[[...], [...], [...], [...], [...], [...], [...], [...], [...], [...], [...], [...], [...], [...], [...], [...], [...], [...], [...], [...], [...], [...], [...], [...], [...], [...], [...], [...], [...], [...], [...], [...], [...], [...], [...], [...], [...], [...], [...], [...], [...], [...], [...], [...], [...], [...], [...], [...], [...], [...], [...], [...], [...], [...], [...], [...], [...], [...], [...], [...], [...], [...], [...], [...], [...], [...], [...], [...], [...], [...], [...], [...], [...], [...], [...], [...], [...], [...], [...], [...], [...], [...], [...], [...], [...], [...], [...], [...], [...], [...], [...], [...], [...], [...], [...], [...], [...], [...], [...], [...], [...], [...], [...], [...], [...], [...], [...], [...], [...], [...], [...], [...], [...], [...], [...], [...], [...], [...], [...]]\n",
      "Done------------------------------------\n"
     ]
    },
    {
     "name": "stderr",
     "output_type": "stream",
     "text": [
      "C:\\Users\\PETER\\anaconda3\\lib\\site-packages\\urllib3\\connectionpool.py:1045: InsecureRequestWarning: Unverified HTTPS request is being made to host 'techtop.co.il'. Adding certificate verification is strongly advised. See: https://urllib3.readthedocs.io/en/1.26.x/advanced-usage.html#ssl-warnings\n",
      "  warnings.warn(\n"
     ]
    },
    {
     "name": "stdout",
     "output_type": "stream",
     "text": [
      "Scraping product data for אולפן DJ וכלי נגינה,אפקטים ו - DI,[[...], [...], [...], [...], [...], [...], [...], [...], [...], [...], [...], [...], [...], [...], [...], [...], [...], [...], [...], [...], [...], [...], [...], [...]]\n",
      "Done------------------------------------\n"
     ]
    },
    {
     "name": "stderr",
     "output_type": "stream",
     "text": [
      "C:\\Users\\PETER\\anaconda3\\lib\\site-packages\\urllib3\\connectionpool.py:1045: InsecureRequestWarning: Unverified HTTPS request is being made to host 'techtop.co.il'. Adding certificate verification is strongly advised. See: https://urllib3.readthedocs.io/en/1.26.x/advanced-usage.html#ssl-warnings\n",
      "  warnings.warn(\n"
     ]
    },
    {
     "name": "stdout",
     "output_type": "stream",
     "text": [
      "Scraping product data for אולפן DJ וכלי נגינה,אפקטים ו - DI,[[...], [...], [...], [...], [...], [...], [...], [...], [...], [...]]\n",
      "Done------------------------------------\n"
     ]
    },
    {
     "name": "stderr",
     "output_type": "stream",
     "text": [
      "C:\\Users\\PETER\\anaconda3\\lib\\site-packages\\urllib3\\connectionpool.py:1045: InsecureRequestWarning: Unverified HTTPS request is being made to host 'techtop.co.il'. Adding certificate verification is strongly advised. See: https://urllib3.readthedocs.io/en/1.26.x/advanced-usage.html#ssl-warnings\n",
      "  warnings.warn(\n"
     ]
    },
    {
     "name": "stdout",
     "output_type": "stream",
     "text": [
      "Scraping product data for אולפן DJ וכלי נגינה,כלי נגינה,[[...], [...], [...], [...], [...], [...], [...], [...], [...], [...], [...], [...], [...], [...], [...], [...], [...], [...], [...], [...], [...], [...], [...], [...], [...], [...], [...], [...], [...], [...], [...], [...], [...], [...], [...], [...], [...], [...], [...], [...], [...], [...], [...], [...], [...], [...], [...], [...], [...], [...], [...], [...], [...], [...], [...], [...], [...], [...], [...], [...], [...], [...], [...], [...], [...], [...], [...], [...], [...], [...], [...], [...], [...], [...], [...], [...], [...], [...], [...], [...], [...], [...], [...], [...]]\n",
      "Done------------------------------------\n"
     ]
    },
    {
     "name": "stderr",
     "output_type": "stream",
     "text": [
      "C:\\Users\\PETER\\anaconda3\\lib\\site-packages\\urllib3\\connectionpool.py:1045: InsecureRequestWarning: Unverified HTTPS request is being made to host 'techtop.co.il'. Adding certificate verification is strongly advised. See: https://urllib3.readthedocs.io/en/1.26.x/advanced-usage.html#ssl-warnings\n",
      "  warnings.warn(\n"
     ]
    },
    {
     "name": "stdout",
     "output_type": "stream",
     "text": [
      "Scraping product data for אולפן DJ וכלי נגינה,כרטיסי קול,[[...], [...], [...], [...], [...], [...], [...], [...], [...], [...]]\n",
      "Done------------------------------------\n"
     ]
    },
    {
     "name": "stderr",
     "output_type": "stream",
     "text": [
      "C:\\Users\\PETER\\anaconda3\\lib\\site-packages\\urllib3\\connectionpool.py:1045: InsecureRequestWarning: Unverified HTTPS request is being made to host 'techtop.co.il'. Adding certificate verification is strongly advised. See: https://urllib3.readthedocs.io/en/1.26.x/advanced-usage.html#ssl-warnings\n",
      "  warnings.warn(\n"
     ]
    },
    {
     "name": "stdout",
     "output_type": "stream",
     "text": [
      "Scraping product data for אולפן DJ וכלי נגינה,כרטיסי קול,[[...], [...], [...], [...], [...]]\n",
      "Done------------------------------------\n"
     ]
    }
   ],
   "source": [
    "#with ThreadPoolExecutor(5) as exec:\n",
    "    #r=exec.map(get_mini_info,get_Id_miniCat(get_mini_category(get_links())))\n",
    "#r\n",
    "get_mini_info(get_Id_miniCat(get_mini_category(get_links())))"
   ]
  },
  {
   "cell_type": "code",
   "execution_count": null,
   "id": "137cbd2e",
   "metadata": {},
   "outputs": [],
   "source": []
  },
  {
   "cell_type": "code",
   "execution_count": null,
   "id": "c3eb0112",
   "metadata": {},
   "outputs": [],
   "source": []
  }
 ],
 "metadata": {
  "kernelspec": {
   "display_name": "Python 3 (ipykernel)",
   "language": "python",
   "name": "python3"
  },
  "language_info": {
   "codemirror_mode": {
    "name": "ipython",
    "version": 3
   },
   "file_extension": ".py",
   "mimetype": "text/x-python",
   "name": "python",
   "nbconvert_exporter": "python",
   "pygments_lexer": "ipython3",
   "version": "3.10.9"
  }
 },
 "nbformat": 4,
 "nbformat_minor": 5
}
